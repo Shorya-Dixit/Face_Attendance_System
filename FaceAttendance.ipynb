{
  "cells": [
    {
      "cell_type": "code",
      "execution_count": 1,
      "metadata": {
        "id": "-AJgrQEZUWJF"
      },
      "outputs": [],
      "source": [
        "import os\n",
        "import pickle\n",
        "import numpy as np\n",
        "import cv2\n",
        "import cvzone\n",
        "import numpy as np\n",
        "from datetime import datetime\n",
        "import face_recognition"
      ]
    },
    {
      "cell_type": "code",
      "execution_count": 2,
      "metadata": {
        "id": "VaNiss2DUgVK"
      },
      "outputs": [],
      "source": [
        "import firebase_admin\n",
        "from firebase_admin import credentials\n",
        "from firebase_admin import db\n",
        "from firebase_admin import storage"
      ]
    },
    {
      "cell_type": "code",
      "execution_count": 3,
      "metadata": {
        "id": "ZWa1-3_7U0Vl"
      },
      "outputs": [],
      "source": [
        "# Check if the Firebase app is already initialized\n",
        "if not firebase_admin._apps:\n",
        "    cred = credentials.Certificate(\"serviceAccountKey.json\")\n",
        "    firebase_admin.initialize_app(cred, {\n",
        "        'databaseURL': \"https://faceattendanceproject-45968-default-rtdb.firebaseio.com/\",\n",
        "        'storageBucket': \"faceattendanceproject-45968.appspot.com\"\n",
        "    })\n",
        "else:\n",
        "# If the app is already initialized, get the existing app\n",
        "    app = firebase_admin.get_app()\n",
        "bucket = storage.bucket()"
      ]
    },
    {
      "cell_type": "code",
      "execution_count": 4,
      "metadata": {},
      "outputs": [
        {
          "name": "stdout",
          "output_type": "stream",
          "text": [
            "4\n"
          ]
        }
      ],
      "source": [
        "# Importing the mode images into a list\n",
        "folderModePath = r'Resources\\Modes'\n",
        "modePathList = os.listdir(folderModePath)\n",
        "imgModeList = []\n",
        "for path in modePathList:\n",
        "    imgModeList.append(cv2.imread(os.path.join(folderModePath, path)))\n",
        "print(len(imgModeList))"
      ]
    },
    {
      "cell_type": "code",
      "execution_count": 5,
      "metadata": {},
      "outputs": [
        {
          "name": "stdout",
          "output_type": "stream",
          "text": [
            "Loading Encode File ...\n",
            "['S1', 'S2', 'S3', 'S4', 'S5', 'S6', 'S7', 'S8', 'S9']\n",
            "Encode File Loaded\n"
          ]
        }
      ],
      "source": [
        "# Loading the encoding file\n",
        "print(\"Loading Encode File ...\")\n",
        "file = open('EncodeFile.p', 'rb')\n",
        "encodeListKnownWithIds = pickle.load(file)\n",
        "file.close()\n",
        "encodeListKnown, studentIds = encodeListKnownWithIds\n",
        "print(studentIds)\n",
        "print(\"Encode File Loaded\")"
      ]
    },
    {
      "cell_type": "code",
      "execution_count": 6,
      "metadata": {
        "id": "z5U8SS6YURl4"
      },
      "outputs": [
        {
          "name": "stdout",
          "output_type": "stream",
          "text": [
            "{'last_attendance_time': '2024-01-23 16:33:27', 'major': 'Physics', 'name': 'Elon Musk', 'standing': 'G', 'starting_year': 2021, 'total_attendance': 8, 'year': 3}\n",
            "1830.138866\n",
            "{'last_attendance_time': '2024-01-23 17:03:57', 'major': 'Physics', 'name': 'Elon Musk', 'standing': 'G', 'starting_year': 2021, 'total_attendance': 9, 'year': 3}\n",
            "5.20553\n",
            "{'last_attendance_time': '2024-01-23 17:03:57', 'major': 'Physics', 'name': 'Elon Musk', 'standing': 'G', 'starting_year': 2021, 'total_attendance': 9, 'year': 3}\n",
            "7.714197\n",
            "{'last_attendance_time': '2024-01-23 17:03:57', 'major': 'Physics', 'name': 'Elon Musk', 'standing': 'G', 'starting_year': 2021, 'total_attendance': 9, 'year': 3}\n",
            "14.838937\n",
            "{'last_attendance_time': '2022-12-11 00:54:34', 'major': 'Singing', 'name': 'Olivia Rodrigo', 'standing': 'B', 'starting_year': 2022, 'total_attendance': 4, 'year': 2}\n",
            "35309413.53511\n",
            "{'last_attendance_time': '2024-01-23 17:04:47', 'major': 'Singing', 'name': 'Olivia Rodrigo', 'standing': 'B', 'starting_year': 2022, 'total_attendance': 5, 'year': 2}\n",
            "12.225759\n",
            "{'last_attendance_time': '2024-01-23 17:04:47', 'major': 'Singing', 'name': 'Olivia Rodrigo', 'standing': 'B', 'starting_year': 2022, 'total_attendance': 5, 'year': 2}\n",
            "14.389003\n",
            "{'last_attendance_time': '2024-01-23 17:04:47', 'major': 'Singing', 'name': 'Olivia Rodrigo', 'standing': 'B', 'starting_year': 2022, 'total_attendance': 5, 'year': 2}\n",
            "43.888645\n",
            "{'last_attendance_time': '2024-01-23 17:04:47', 'major': 'Singing', 'name': 'Olivia Rodrigo', 'standing': 'B', 'starting_year': 2022, 'total_attendance': 5, 'year': 2}\n",
            "46.150031\n",
            "{'last_attendance_time': '2024-01-23 17:04:47', 'major': 'Singing', 'name': 'Olivia Rodrigo', 'standing': 'B', 'starting_year': 2022, 'total_attendance': 5, 'year': 2}\n",
            "48.886388\n",
            "{'last_attendance_time': '2024-01-23 17:04:47', 'major': 'Singing', 'name': 'Olivia Rodrigo', 'standing': 'B', 'starting_year': 2022, 'total_attendance': 5, 'year': 2}\n",
            "57.755687\n",
            "{'last_attendance_time': '2024-01-23 17:04:47', 'major': 'Singing', 'name': 'Olivia Rodrigo', 'standing': 'B', 'starting_year': 2022, 'total_attendance': 5, 'year': 2}\n",
            "59.923461\n",
            "{'last_attendance_time': '2022-12-11 00:54:34', 'major': 'Singing', 'name': 'Rose', 'standing': 'A', 'starting_year': 2023, 'total_attendance': 11, 'year': 1}\n",
            "35309479.422413\n",
            "{'last_attendance_time': '2022-12-11 00:54:34', 'major': 'Dancing', 'name': 'Lisa', 'standing': 'G', 'starting_year': 2022, 'total_attendance': 7, 'year': 2}\n",
            "35309488.485862\n",
            "{'last_attendance_time': '2024-01-23 17:06:02', 'major': 'Dancing', 'name': 'Lisa', 'standing': 'G', 'starting_year': 2022, 'total_attendance': 8, 'year': 2}\n",
            "4.383586\n",
            "{'last_attendance_time': '2022-12-11 00:54:34', 'major': 'Politics', 'name': 'Narendra Modi', 'standing': 'A', 'starting_year': 2020, 'total_attendance': 8, 'year': 4}\n",
            "35309509.309215\n",
            "{'last_attendance_time': '2024-01-23 17:06:23', 'major': 'Politics', 'name': 'Narendra Modi', 'standing': 'A', 'starting_year': 2020, 'total_attendance': 9, 'year': 4}\n",
            "3.946933\n",
            "{'last_attendance_time': '2024-01-23 17:06:23', 'major': 'Politics', 'name': 'Narendra Modi', 'standing': 'A', 'starting_year': 2020, 'total_attendance': 9, 'year': 4}\n",
            "6.450998\n",
            "{'last_attendance_time': '2024-01-23 17:06:02', 'major': 'Dancing', 'name': 'Lisa', 'standing': 'G', 'starting_year': 2022, 'total_attendance': 8, 'year': 2}\n",
            "41.553617\n",
            "{'last_attendance_time': '2024-01-23 17:06:02', 'major': 'Dancing', 'name': 'Lisa', 'standing': 'G', 'starting_year': 2022, 'total_attendance': 8, 'year': 2}\n",
            "43.544765\n",
            "{'last_attendance_time': '2024-01-23 17:06:02', 'major': 'Dancing', 'name': 'Lisa', 'standing': 'G', 'starting_year': 2022, 'total_attendance': 8, 'year': 2}\n",
            "45.79021\n",
            "{'last_attendance_time': '2024-01-23 17:06:02', 'major': 'Dancing', 'name': 'Lisa', 'standing': 'G', 'starting_year': 2022, 'total_attendance': 8, 'year': 2}\n",
            "47.867821\n",
            "{'last_attendance_time': '2024-01-23 17:06:02', 'major': 'Dancing', 'name': 'Lisa', 'standing': 'G', 'starting_year': 2022, 'total_attendance': 8, 'year': 2}\n",
            "49.999633\n",
            "{'last_attendance_time': '2024-01-23 17:06:02', 'major': 'Dancing', 'name': 'Lisa', 'standing': 'G', 'starting_year': 2022, 'total_attendance': 8, 'year': 2}\n",
            "69.050512\n",
            "{'last_attendance_time': '2022-12-11 00:54:34', 'major': 'Acting', 'name': 'Ana de Armas', 'standing': 'G', 'starting_year': 2023, 'total_attendance': 7, 'year': 1}\n",
            "35309578.700868\n",
            "{'last_attendance_time': '2024-01-23 17:07:33', 'major': 'Acting', 'name': 'Ana de Armas', 'standing': 'G', 'starting_year': 2023, 'total_attendance': 8, 'year': 1}\n",
            "16.317569\n",
            "{'last_attendance_time': '2024-01-23 17:07:33', 'major': 'Acting', 'name': 'Ana de Armas', 'standing': 'G', 'starting_year': 2023, 'total_attendance': 8, 'year': 1}\n",
            "18.260083\n",
            "{'last_attendance_time': '2022-12-11 00:54:34', 'major': 'Nursing', 'name': 'Sunny Leone', 'standing': 'G', 'starting_year': 2020, 'total_attendance': 7, 'year': 4}\n",
            "35309605.45976\n",
            "{'last_attendance_time': '2024-01-23 17:07:59', 'major': 'Nursing', 'name': 'Sunny Leone', 'standing': 'G', 'starting_year': 2020, 'total_attendance': 8, 'year': 4}\n",
            "9.6009\n",
            "{'last_attendance_time': '2024-01-23 17:05:53', 'major': 'Singing', 'name': 'Rose', 'standing': 'A', 'starting_year': 2023, 'total_attendance': 12, 'year': 1}\n",
            "143.684319\n",
            "{'last_attendance_time': '2024-01-23 17:07:11', 'major': 'Dancing', 'name': 'Lisa', 'standing': 'G', 'starting_year': 2022, 'total_attendance': 9, 'year': 2}\n",
            "68.499099\n",
            "{'last_attendance_time': '2024-01-23 17:08:19', 'major': 'Dancing', 'name': 'Lisa', 'standing': 'G', 'starting_year': 2022, 'total_attendance': 10, 'year': 2}\n",
            "20.141907\n"
          ]
        },
        {
          "ename": "KeyboardInterrupt",
          "evalue": "",
          "output_type": "error",
          "traceback": [
            "\u001b[1;31m---------------------------------------------------------------------------\u001b[0m",
            "\u001b[1;31mKeyboardInterrupt\u001b[0m                         Traceback (most recent call last)",
            "Input \u001b[1;32mIn [6]\u001b[0m, in \u001b[0;36m<module>\u001b[1;34m\u001b[0m\n\u001b[0;32m     19\u001b[0m imgS \u001b[38;5;241m=\u001b[39m cv2\u001b[38;5;241m.\u001b[39mresize(img, (\u001b[38;5;241m0\u001b[39m, \u001b[38;5;241m0\u001b[39m), \u001b[38;5;28;01mNone\u001b[39;00m, \u001b[38;5;241m0.25\u001b[39m, \u001b[38;5;241m0.25\u001b[39m)\n\u001b[0;32m     20\u001b[0m imgS \u001b[38;5;241m=\u001b[39m cv2\u001b[38;5;241m.\u001b[39mcvtColor(imgS, cv2\u001b[38;5;241m.\u001b[39mCOLOR_BGR2RGB)\n\u001b[1;32m---> 22\u001b[0m faceCurFrame \u001b[38;5;241m=\u001b[39m \u001b[43mface_recognition\u001b[49m\u001b[38;5;241;43m.\u001b[39;49m\u001b[43mface_locations\u001b[49m\u001b[43m(\u001b[49m\u001b[43mimgS\u001b[49m\u001b[43m)\u001b[49m\n\u001b[0;32m     23\u001b[0m encodeCurFrame \u001b[38;5;241m=\u001b[39m face_recognition\u001b[38;5;241m.\u001b[39mface_encodings(imgS, faceCurFrame)\n\u001b[0;32m     25\u001b[0m imgBackground[\u001b[38;5;241m162\u001b[39m:\u001b[38;5;241m162\u001b[39m \u001b[38;5;241m+\u001b[39m \u001b[38;5;241m480\u001b[39m, \u001b[38;5;241m55\u001b[39m:\u001b[38;5;241m55\u001b[39m \u001b[38;5;241m+\u001b[39m \u001b[38;5;241m640\u001b[39m] \u001b[38;5;241m=\u001b[39m img\n",
            "File \u001b[1;32mc:\\Users\\shory\\AppData\\Local\\Programs\\Python\\Python310\\lib\\site-packages\\face_recognition\\api.py:121\u001b[0m, in \u001b[0;36mface_locations\u001b[1;34m(img, number_of_times_to_upsample, model)\u001b[0m\n\u001b[0;32m    119\u001b[0m     \u001b[38;5;28;01mreturn\u001b[39;00m [_trim_css_to_bounds(_rect_to_css(face\u001b[38;5;241m.\u001b[39mrect), img\u001b[38;5;241m.\u001b[39mshape) \u001b[38;5;28;01mfor\u001b[39;00m face \u001b[38;5;129;01min\u001b[39;00m _raw_face_locations(img, number_of_times_to_upsample, \u001b[38;5;124m\"\u001b[39m\u001b[38;5;124mcnn\u001b[39m\u001b[38;5;124m\"\u001b[39m)]\n\u001b[0;32m    120\u001b[0m \u001b[38;5;28;01melse\u001b[39;00m:\n\u001b[1;32m--> 121\u001b[0m     \u001b[38;5;28;01mreturn\u001b[39;00m [_trim_css_to_bounds(_rect_to_css(face), img\u001b[38;5;241m.\u001b[39mshape) \u001b[38;5;28;01mfor\u001b[39;00m face \u001b[38;5;129;01min\u001b[39;00m \u001b[43m_raw_face_locations\u001b[49m\u001b[43m(\u001b[49m\u001b[43mimg\u001b[49m\u001b[43m,\u001b[49m\u001b[43m \u001b[49m\u001b[43mnumber_of_times_to_upsample\u001b[49m\u001b[43m,\u001b[49m\u001b[43m \u001b[49m\u001b[43mmodel\u001b[49m\u001b[43m)\u001b[49m]\n",
            "File \u001b[1;32mc:\\Users\\shory\\AppData\\Local\\Programs\\Python\\Python310\\lib\\site-packages\\face_recognition\\api.py:105\u001b[0m, in \u001b[0;36m_raw_face_locations\u001b[1;34m(img, number_of_times_to_upsample, model)\u001b[0m\n\u001b[0;32m    103\u001b[0m     \u001b[38;5;28;01mreturn\u001b[39;00m cnn_face_detector(img, number_of_times_to_upsample)\n\u001b[0;32m    104\u001b[0m \u001b[38;5;28;01melse\u001b[39;00m:\n\u001b[1;32m--> 105\u001b[0m     \u001b[38;5;28;01mreturn\u001b[39;00m \u001b[43mface_detector\u001b[49m\u001b[43m(\u001b[49m\u001b[43mimg\u001b[49m\u001b[43m,\u001b[49m\u001b[43m \u001b[49m\u001b[43mnumber_of_times_to_upsample\u001b[49m\u001b[43m)\u001b[49m\n",
            "\u001b[1;31mKeyboardInterrupt\u001b[0m: "
          ]
        },
        {
          "ename": "",
          "evalue": "",
          "output_type": "error",
          "traceback": [
            "\u001b[1;31mThe Kernel crashed while executing code in the the current cell or a previous cell. Please review the code in the cell(s) to identify a possible cause of the failure. Click <a href='https://aka.ms/vscodeJupyterKernelCrash'>here</a> for more info. View Jupyter <a href='command:jupyter.viewOutput'>log</a> for further details."
          ]
        }
      ],
      "source": [
        "cap = cv2.VideoCapture(0)\n",
        "cap.set(3, 640)\n",
        "cap.set(4, 480)\n",
        "imgBackgroundPath = r'Resources\\background.png'  # Use a raw string \n",
        "imgBackground = np.zeros((480, 640, 3), dtype=np.uint8)\n",
        "imgBackground = cv2.imread(imgBackgroundPath)\n",
        "\n",
        "modeType = 0\n",
        "counter = 0\n",
        "id = -1\n",
        "imgStudent = []\n",
        "\n",
        "while True:\n",
        "    success, img = cap.read()\n",
        "    if not success:\n",
        "        print(\"Error reading frame from the video source\")\n",
        "        break  \n",
        "    \n",
        "    imgS = cv2.resize(img, (0, 0), None, 0.25, 0.25)\n",
        "    imgS = cv2.cvtColor(imgS, cv2.COLOR_BGR2RGB)\n",
        "\n",
        "    faceCurFrame = face_recognition.face_locations(imgS)\n",
        "    encodeCurFrame = face_recognition.face_encodings(imgS, faceCurFrame)\n",
        "\n",
        "    imgBackground[162:162 + 480, 55:55 + 640] = img\n",
        "    imgBackground[44:44 + 633, 808:808 + 414] = imgModeList[modeType]\n",
        "\n",
        "    if faceCurFrame:\n",
        "        for encodeFace, faceLoc in zip(encodeCurFrame, faceCurFrame):\n",
        "            matches = face_recognition.compare_faces(encodeListKnown, encodeFace)\n",
        "            faceDis = face_recognition.face_distance(encodeListKnown, encodeFace)\n",
        "\n",
        "            matchIndex = np.argmin(faceDis)\n",
        "\n",
        "            if matches[matchIndex]:\n",
        "                y1, x2, y2, x1 = faceLoc\n",
        "                y1, x2, y2, x1 = y1 * 4, x2 * 4, y2 * 4, x1 * 4\n",
        "                bbox = 55 + x1, 162 + y1, x2 - x1, y2 - y1\n",
        "                imgBackground = cvzone.cornerRect(imgBackground, bbox, rt=0)\n",
        "                id = studentIds[matchIndex]\n",
        "                if counter == 0:\n",
        "                    cvzone.putTextRect(imgBackground, \"Loading\", (275, 400))\n",
        "                    cv2.imshow(\"Face Attendance\", imgBackground)\n",
        "                    cv2.waitKey(1)\n",
        "                    counter = 1\n",
        "                    modeType = 1\n",
        "\n",
        "        if counter != 0:\n",
        "\n",
        "            if counter == 1:\n",
        "                # Get the Data\n",
        "                studentInfo = db.reference(f'Students/{id}').get()\n",
        "                print(studentInfo)\n",
        "                # Get the Image from the storage\n",
        "                blob = bucket.get_blob(f'Images/{id}.png')\n",
        "                array = np.frombuffer(blob.download_as_string(), np.uint8)\n",
        "                imgStudent = cv2.imdecode(array, cv2.COLOR_BGRA2BGR)\n",
        "                # Update data of attendance\n",
        "                datetimeObject = datetime.strptime(studentInfo['last_attendance_time'],\n",
        "                                                   \"%Y-%m-%d %H:%M:%S\")\n",
        "                secondsElapsed = (datetime.now() - datetimeObject).total_seconds()\n",
        "                print(secondsElapsed)\n",
        "\n",
        "                if secondsElapsed > 60: # Time after which a particular student can mark again\n",
        "                    ref = db.reference(f'Students/{id}')\n",
        "                    studentInfo['total_attendance'] += 1\n",
        "                    ref.child('total_attendance').set(studentInfo['total_attendance'])\n",
        "                    ref.child('last_attendance_time').set(datetime.now().strftime(\"%Y-%m-%d %H:%M:%S\"))\n",
        "                else:\n",
        "                    modeType = 3\n",
        "                    counter = 0\n",
        "                    imgBackground[44:44 + 633, 808:808 + 414] = imgModeList[modeType]\n",
        "\n",
        "            if modeType != 3:\n",
        "\n",
        "                if 10 < counter < 20:\n",
        "                    modeType = 2\n",
        "\n",
        "                imgBackground[44:44 + 633, 808:808 + 414] = imgModeList[modeType]\n",
        "\n",
        "                if counter <= 10:\n",
        "                    cv2.putText(imgBackground, str(studentInfo['total_attendance']), (861, 125),\n",
        "                                cv2.FONT_HERSHEY_COMPLEX, 1, (255, 255, 255), 1)\n",
        "                    cv2.putText(imgBackground, str(studentInfo['major']), (1006, 550),\n",
        "                                cv2.FONT_HERSHEY_COMPLEX, 0.5, (255, 255, 255), 1)\n",
        "                    cv2.putText(imgBackground, str(id), (1006, 493),\n",
        "                                cv2.FONT_HERSHEY_COMPLEX, 0.5, (255, 255, 255), 1)\n",
        "                    cv2.putText(imgBackground, str(studentInfo['standing']), (910, 625),\n",
        "                                cv2.FONT_HERSHEY_COMPLEX, 0.6, (100, 100, 100), 1)\n",
        "                    cv2.putText(imgBackground, str(studentInfo['year']), (1025, 625),\n",
        "                                cv2.FONT_HERSHEY_COMPLEX, 0.6, (100, 100, 100), 1)\n",
        "                    cv2.putText(imgBackground, str(studentInfo['starting_year']), (1125, 625),\n",
        "                                cv2.FONT_HERSHEY_COMPLEX, 0.6, (100, 100, 100), 1)\n",
        "\n",
        "                    (w, h), _ = cv2.getTextSize(studentInfo['name'], cv2.FONT_HERSHEY_COMPLEX, 1, 1)\n",
        "                    offset = (414 - w) // 2\n",
        "                    cv2.putText(imgBackground, str(studentInfo['name']), (808 + offset, 445),\n",
        "                                cv2.FONT_HERSHEY_COMPLEX, 1, (50, 50, 50), 1)\n",
        "\n",
        "                    imgBackground[175:175 + 216, 909:909 + 216] = imgStudent\n",
        "\n",
        "                counter += 1\n",
        "\n",
        "                if counter >= 20:   # Reseting attendance screen \n",
        "                    counter = 0\n",
        "                    modeType = 0\n",
        "                    studentInfo = []\n",
        "                    imgStudent = []\n",
        "                    imgBackground[44:44 + 633, 808:808 + 414] = imgModeList[modeType]\n",
        "    else:\n",
        "        modeType = 0\n",
        "        counter = 0\n",
        "    cv2.imshow(\"Face Attendance\", imgBackground)\n",
        "    if cv2.waitKey(1) & 0xFF == ord('q'):  # Close the camera if 'q' is pressed\n",
        "        break"
      ]
    }
  ],
  "metadata": {
    "colab": {
      "provenance": []
    },
    "kernelspec": {
      "display_name": "Python 3",
      "name": "python3"
    },
    "language_info": {
      "codemirror_mode": {
        "name": "ipython",
        "version": 3
      },
      "file_extension": ".py",
      "mimetype": "text/x-python",
      "name": "python",
      "nbconvert_exporter": "python",
      "pygments_lexer": "ipython3",
      "version": "3.10.2"
    }
  },
  "nbformat": 4,
  "nbformat_minor": 0
}
