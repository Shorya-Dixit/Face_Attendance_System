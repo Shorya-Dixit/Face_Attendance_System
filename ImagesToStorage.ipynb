{
 "cells": [
  {
   "cell_type": "code",
   "execution_count": 4,
   "metadata": {},
   "outputs": [],
   "source": [
    "import os\n",
    "import firebase_admin\n",
    "from firebase_admin import credentials\n",
    "from firebase_admin import db\n",
    "from firebase_admin import storage"
   ]
  },
  {
   "cell_type": "code",
   "execution_count": 5,
   "metadata": {},
   "outputs": [],
   "source": [
    "# Check if the Firebase app is already initialized\n",
    "if not firebase_admin._apps:\n",
    "    cred = credentials.Certificate(\"serviceAccountKey.json\")\n",
    "    firebase_admin.initialize_app(cred, {\n",
    "        'databaseURL': \"https://faceattendanceproject-45968-default-rtdb.firebaseio.com/\",\n",
    "        'storageBucket': \"faceattendanceproject-45968.appspot.com\"\n",
    "    })\n",
    "else:\n",
    "# If the app is already initialized, get the existing app\n",
    "    app = firebase_admin.get_app()"
   ]
  },
  {
   "cell_type": "code",
   "execution_count": 6,
   "metadata": {},
   "outputs": [],
   "source": [
    "# Uploading images to firebase storage\n",
    "ImagesPath = 'Images' # relative to this notebook\n",
    "pathList = os.listdir(ImagesPath)\n",
    "for path in pathList:\n",
    "    fileName = f'{ImagesPath}/{path}'\n",
    "    bucket = storage.bucket()\n",
    "    blob = bucket.blob(fileName)\n",
    "    blob.upload_from_filename(fileName)"
   ]
  }
 ],
 "metadata": {
  "kernelspec": {
   "display_name": "Python 3",
   "language": "python",
   "name": "python3"
  },
  "language_info": {
   "codemirror_mode": {
    "name": "ipython",
    "version": 3
   },
   "file_extension": ".py",
   "mimetype": "text/x-python",
   "name": "python",
   "nbconvert_exporter": "python",
   "pygments_lexer": "ipython3",
   "version": "3.10.2"
  }
 },
 "nbformat": 4,
 "nbformat_minor": 2
}
